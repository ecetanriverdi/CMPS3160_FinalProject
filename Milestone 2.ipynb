{
 "cells": [
  {
   "cell_type": "markdown",
   "metadata": {},
   "source": [
    "## IMMIGRATION TRENDS IN THE UNITED STATES"
   ]
  },
  {
   "cell_type": "markdown",
   "metadata": {},
   "source": [
    "Ece Tanriverdi \n",
    "\n",
    "Link to my Github Webpage: NEW WEBPAGE HERE\n"
   ]
  },
  {
   "cell_type": "code",
   "execution_count": 23,
   "metadata": {},
   "outputs": [],
   "source": [
    "import pandas as pd\n",
    "import numpy as np\n",
    "import matplotlib.pyplot as plt"
   ]
  },
  {
   "cell_type": "markdown",
   "metadata": {},
   "source": [
    "## Project Goals\n"
   ]
  },
  {
   "cell_type": "markdown",
   "metadata": {},
   "source": [
    "The team, **Ece Tanriverdi**, will be investigating data sets related to immigration trends in the United States. The project will focus on examining various demographic variables such as country of origin, rates of voluntary versus forced immigration, and settlement patterns across U.S. states. At this stage, I am considering a few data sets that provide comprehensive insights into immigration to the U.S. over the past decade(2013-2023). These data sets will be crucial in understanding the shifts in immigration patterns, especially in light of major global events like COVID-19.\n",
    "\n",
    "The data I am using from Homeland Security Statistics (OHSS)  is found here: https://ohss.dhs.gov/#:~:text=OHSS%20%7C%20Office%20of%20Homeland%20Security%20Statistics,-Previous&text=Our%20interactive%20map%20shows%20state,grants%2C%20and%20arrivals%20and%20adjustments.\n",
    "\n",
    "The data I am using from U.S. Department of State is found here: https://travel.state.gov/content/travel/en/legal/visa-law0/visa-statistics/nonimmigrant-visa-statistics.html\n"
   ]
  },
  {
   "cell_type": "markdown",
   "metadata": {},
   "source": [
    "**update this paragraph**\n",
    "The data will be sourced from Office of Homeland Security Statistics (OHSS) and U.S. Depatment of State, which offer detailed statistics on immigrant demographics and geographic trends. With this data, I aim to explore several key questions, including:\n",
    "\n",
    "- Which countries send the most immigrants to the U.S.?  \n",
    "- Are there any trends in demographic information of immigrants?\n",
    "- Are there noticeable trends in immigration patterns, particularly post-COVID-19?\n",
    "\n",
    "Initial Steps\n",
    "My initial approach will be to extract, transform, and load (ETL) the data from OHSS and USCB to ensure it is clean and tidy for analysis. For now, I will focus on identifying three to five key statistics that reveal interesting trends in immigration, such as:\n",
    "\n",
    "- The top five countries of origin for U.S. immigrants in the last decade.\n",
    "- The most common states for immigrant settlement are ranked by population size.\n",
    "- Any significant changes in the rates of immigration post-COVID-19.\n",
    "\n",
    "A preliminary graph will be generated to visualize the distribution of immigrants by country of origin, which will provide insight into global migration patterns."
   ]
  },
  {
   "cell_type": "markdown",
   "metadata": {},
   "source": [
    "## Collaboration Plan"
   ]
  },
  {
   "cell_type": "markdown",
   "metadata": {},
   "source": [
    "Since I am working on this project independently, I will maintain a consistent schedule to meet the project goals. I plan to set up weekly work sessions and will upload all relevant code and data analysis to a private GitHub repository. I will also use Jupyter Notebooks to document the ETL process and track progress. Any challenges or difficulties in formatting and tidying the data will be documented for review."
   ]
  },
  {
   "cell_type": "markdown",
   "metadata": {},
   "source": [
    "**IMMIGRANTS THEN AND NOW**"
   ]
  },
  {
   "cell_type": "markdown",
   "metadata": {},
   "source": [
    "The graph shows the trends in total, affirmative, and defensive asylee cases from 2013 to 2023.\n",
    "-  Overall Trends: The total number of cases fluctuates, with notable increases in 2018-2019 and a sharp rise in 2023.\n",
    "- COVID-19 Impact: A decline in cases occurred in 2020-2021, likely due to travel restrictions and immigration policy changes during the pandemic.\n",
    "- Affirmative vs. Defensive Cases: Defensive cases increased steadily, reflecting stricter immigration enforcement and more asylum claims during deportation proceedings.\n",
    "\n",
    "These trends highlight how global events and U.S. immigration policies shape asylum applications, providing insights for policymakers and organizations working with immigrants.\n"
   ]
  },
  {
   "cell_type": "markdown",
   "metadata": {},
   "source": [
    "explain what u did here \n"
   ]
  },
  {
   "cell_type": "code",
   "execution_count": 92,
   "metadata": {},
   "outputs": [
    {
     "data": {
      "text/html": [
       "<div>\n",
       "<style scoped>\n",
       "    .dataframe tbody tr th:only-of-type {\n",
       "        vertical-align: middle;\n",
       "    }\n",
       "\n",
       "    .dataframe tbody tr th {\n",
       "        vertical-align: top;\n",
       "    }\n",
       "\n",
       "    .dataframe thead th {\n",
       "        text-align: right;\n",
       "    }\n",
       "</style>\n",
       "<table border=\"1\" class=\"dataframe\">\n",
       "  <thead>\n",
       "    <tr style=\"text-align: right;\">\n",
       "      <th></th>\n",
       "      <th>Year</th>\n",
       "      <th>Number of Immigrants</th>\n",
       "      <th>Immigrants as a Percentage of the U.S. Population</th>\n",
       "    </tr>\n",
       "  </thead>\n",
       "  <tbody>\n",
       "    <tr>\n",
       "      <th>19</th>\n",
       "      <td>2013</td>\n",
       "      <td>41,348,100</td>\n",
       "      <td>13.10%</td>\n",
       "    </tr>\n",
       "    <tr>\n",
       "      <th>20</th>\n",
       "      <td>2014</td>\n",
       "      <td>42,391,800</td>\n",
       "      <td>13.30%</td>\n",
       "    </tr>\n",
       "    <tr>\n",
       "      <th>21</th>\n",
       "      <td>2015</td>\n",
       "      <td>43,290,400</td>\n",
       "      <td>13.50%</td>\n",
       "    </tr>\n",
       "    <tr>\n",
       "      <th>22</th>\n",
       "      <td>2016</td>\n",
       "      <td>43,739,300</td>\n",
       "      <td>13.50%</td>\n",
       "    </tr>\n",
       "    <tr>\n",
       "      <th>23</th>\n",
       "      <td>2017</td>\n",
       "      <td>44,525,900</td>\n",
       "      <td>13.70%</td>\n",
       "    </tr>\n",
       "    <tr>\n",
       "      <th>24</th>\n",
       "      <td>2018</td>\n",
       "      <td>44,728,700</td>\n",
       "      <td>13.70%</td>\n",
       "    </tr>\n",
       "    <tr>\n",
       "      <th>25</th>\n",
       "      <td>2019</td>\n",
       "      <td>44,932,900</td>\n",
       "      <td>13.70%</td>\n",
       "    </tr>\n",
       "    <tr>\n",
       "      <th>26</th>\n",
       "      <td>2021</td>\n",
       "      <td>45,270,100</td>\n",
       "      <td>13.60%</td>\n",
       "    </tr>\n",
       "    <tr>\n",
       "      <th>27</th>\n",
       "      <td>2022</td>\n",
       "      <td>46,182,200</td>\n",
       "      <td>13.90%</td>\n",
       "    </tr>\n",
       "    <tr>\n",
       "      <th>28</th>\n",
       "      <td>2023</td>\n",
       "      <td>47,831,400</td>\n",
       "      <td>14.30%</td>\n",
       "    </tr>\n",
       "  </tbody>\n",
       "</table>\n",
       "</div>"
      ],
      "text/plain": [
       "    Year Number of Immigrants  \\\n",
       "19  2013           41,348,100   \n",
       "20  2014           42,391,800   \n",
       "21  2015           43,290,400   \n",
       "22  2016           43,739,300   \n",
       "23  2017           44,525,900   \n",
       "24  2018           44,728,700   \n",
       "25  2019           44,932,900   \n",
       "26  2021           45,270,100   \n",
       "27  2022           46,182,200   \n",
       "28  2023           47,831,400   \n",
       "\n",
       "   Immigrants as a Percentage of the U.S. Population  \n",
       "19                                            13.10%  \n",
       "20                                            13.30%  \n",
       "21                                            13.50%  \n",
       "22                                            13.50%  \n",
       "23                                            13.70%  \n",
       "24                                            13.70%  \n",
       "25                                            13.70%  \n",
       "26                                            13.60%  \n",
       "27                                            13.90%  \n",
       "28                                            14.30%  "
      ]
     },
     "execution_count": 92,
     "metadata": {},
     "output_type": "execute_result"
    }
   ],
   "source": [
    "refugee = pd.read_csv(\"/Users/athleticsimage/Desktop/CMPS3160_FinalProject/CMPS3160_FinalProject/MPI-Data-Hub_Imm_N-Percent-US-Pop_2023.csv\")\n",
    "refugee = refugee.drop(range(0, 19))\n",
    "refugee.head(10)"
   ]
  },
  {
   "cell_type": "markdown",
   "metadata": {},
   "source": [
    "talk about your summary statistic"
   ]
  },
  {
   "cell_type": "code",
   "execution_count": 94,
   "metadata": {},
   "outputs": [
    {
     "data": {
      "text/plain": [
       "Year                                                       2023\n",
       "Number of Immigrants                                 47,831,400\n",
       "Immigrants as a Percentage of the U.S. Population        14.30%\n",
       "Name: 28, dtype: object"
      ]
     },
     "execution_count": 94,
     "metadata": {},
     "output_type": "execute_result"
    }
   ],
   "source": [
    "year_max_immigrants = refugee.loc[refugee['Number of Immigrants'].idxmax()]\n",
    "\n",
    "year_max_immigrants\n"
   ]
  },
  {
   "cell_type": "markdown",
   "metadata": {},
   "source": [
    "talk about ypur tbale"
   ]
  },
  {
   "cell_type": "code",
   "execution_count": 96,
   "metadata": {},
   "outputs": [
    {
     "data": {
      "image/png": "[encoded data removed]",
      "text/plain": [
       "<Figure size 1000x600 with 1 Axes>"
      ]
     },
     "metadata": {},
     "output_type": "display_data"
    }
   ],
   "source": [
    "plt.figure(figsize=(10, 6))\n",
    "plt.bar(refugee['Year'], refugee['Number of Immigrants'], color='pink')\n",
    "plt.xlabel('Year')\n",
    "plt.ylabel('Number of Immigrants')\n",
    "plt.title('Number of Immigrants by Year')\n",
    "plt.xticks(rotation=45)\n",
    "plt.tight_layout()\n",
    "plt.show()"
   ]
  },
  {
   "cell_type": "markdown",
   "metadata": {},
   "source": [
    "'explain your plot"
   ]
  },
  {
   "cell_type": "code",
   "execution_count": null,
   "metadata": {},
   "outputs": [],
   "source": [
    "refugee['US Population (Number)'] = refugee['Immigrants as a Percentage of the U.S. Population'] * 1_000_000\n",
    "\n",
    "plt.figure(figsize=(10, 6))\n",
    "plt.plot(refugee['Year'], refugee['Number of Immigrants'], label='Number of Immigrants', color='pink', marker='o')\n",
    "plt.plot(refugee['Year'], refugee['US Population (Number)'], label='U.S. Population', color='green', marker='x')\n",
    "\n",
    "plt.xlabel('Year')\n",
    "plt.ylabel('Population (Number)')\n",
    "plt.title('Comparison of Immigrants and U.S. Population by Year')\n",
    "plt.xticks(rotation=45)\n",
    "plt.legend()\n",
    "\n",
    "plt.tight_layout()\n",
    "plt.show()"
   ]
  },
  {
   "cell_type": "markdown",
   "metadata": {},
   "source": [
    "from here its the new data set\n"
   ]
  },
  {
   "cell_type": "markdown",
   "metadata": {},
   "source": [
    "**non immigrants starting here**"
   ]
  },
  {
   "cell_type": "code",
   "execution_count": 28,
   "metadata": {},
   "outputs": [
    {
     "data": {
      "text/html": [
       "<div>\n",
       "<style scoped>\n",
       "    .dataframe tbody tr th:only-of-type {\n",
       "        vertical-align: middle;\n",
       "    }\n",
       "\n",
       "    .dataframe tbody tr th {\n",
       "        vertical-align: top;\n",
       "    }\n",
       "\n",
       "    .dataframe thead th {\n",
       "        text-align: right;\n",
       "    }\n",
       "</style>\n",
       "<table border=\"1\" class=\"dataframe\">\n",
       "  <thead>\n",
       "    <tr style=\"text-align: right;\">\n",
       "      <th></th>\n",
       "      <th>Visa Category</th>\n",
       "      <th>Issued</th>\n",
       "      <th>Refused</th>\n",
       "      <th>Total Applications</th>\n",
       "    </tr>\n",
       "  </thead>\n",
       "  <tbody>\n",
       "    <tr>\n",
       "      <th>0</th>\n",
       "      <td>A1</td>\n",
       "      <td>10,574</td>\n",
       "      <td>2,501</td>\n",
       "      <td>13,075</td>\n",
       "    </tr>\n",
       "    <tr>\n",
       "      <th>1</th>\n",
       "      <td>A2</td>\n",
       "      <td>95,994</td>\n",
       "      <td>20,956</td>\n",
       "      <td>116,950</td>\n",
       "    </tr>\n",
       "    <tr>\n",
       "      <th>2</th>\n",
       "      <td>A3</td>\n",
       "      <td>1,135</td>\n",
       "      <td>780</td>\n",
       "      <td>1,915</td>\n",
       "    </tr>\n",
       "    <tr>\n",
       "      <th>3</th>\n",
       "      <td>B1</td>\n",
       "      <td>41,956</td>\n",
       "      <td>14,113</td>\n",
       "      <td>56,069</td>\n",
       "    </tr>\n",
       "    <tr>\n",
       "      <th>4</th>\n",
       "      <td>B1/B2</td>\n",
       "      <td>5,645,580</td>\n",
       "      <td>1,484,912</td>\n",
       "      <td>7,130,492</td>\n",
       "    </tr>\n",
       "    <tr>\n",
       "      <th>...</th>\n",
       "      <td>...</td>\n",
       "      <td>...</td>\n",
       "      <td>...</td>\n",
       "      <td>...</td>\n",
       "    </tr>\n",
       "    <tr>\n",
       "      <th>77</th>\n",
       "      <td>U2</td>\n",
       "      <td>116</td>\n",
       "      <td>85</td>\n",
       "      <td>201</td>\n",
       "    </tr>\n",
       "    <tr>\n",
       "      <th>78</th>\n",
       "      <td>U3</td>\n",
       "      <td>1,391</td>\n",
       "      <td>460</td>\n",
       "      <td>1,851</td>\n",
       "    </tr>\n",
       "    <tr>\n",
       "      <th>79</th>\n",
       "      <td>U4</td>\n",
       "      <td>42</td>\n",
       "      <td>35</td>\n",
       "      <td>77</td>\n",
       "    </tr>\n",
       "    <tr>\n",
       "      <th>80</th>\n",
       "      <td>U5</td>\n",
       "      <td>55</td>\n",
       "      <td>16</td>\n",
       "      <td>71</td>\n",
       "    </tr>\n",
       "    <tr>\n",
       "      <th>81</th>\n",
       "      <td>Grand Totals</td>\n",
       "      <td>9,164,349</td>\n",
       "      <td>2,289,664</td>\n",
       "      <td>11,454,013</td>\n",
       "    </tr>\n",
       "  </tbody>\n",
       "</table>\n",
       "<p>82 rows × 4 columns</p>\n",
       "</div>"
      ],
      "text/plain": [
       "   Visa Category     Issued    Refused Total Applications\n",
       "0             A1     10,574      2,501             13,075\n",
       "1             A2     95,994     20,956            116,950\n",
       "2             A3      1,135        780              1,915\n",
       "3             B1     41,956     14,113             56,069\n",
       "4          B1/B2  5,645,580  1,484,912          7,130,492\n",
       "..           ...        ...        ...                ...\n",
       "77            U2        116         85                201\n",
       "78            U3      1,391        460              1,851\n",
       "79            U4         42         35                 77\n",
       "80            U5         55         16                 71\n",
       "81  Grand Totals  9,164,349  2,289,664         11,454,013\n",
       "\n",
       "[82 rows x 4 columns]"
      ]
     },
     "execution_count": 28,
     "metadata": {},
     "output_type": "execute_result"
    }
   ],
   "source": [
    "noni2013 = pd.read_csv(\"/Users/athleticsimage/Desktop/CMPS3160_FinalProject/CMPS3160_FinalProject/noni2013.csv\")\n",
    "noni2013.drop([\"Waived / Overcome\"], axis=1, inplace= True)\n",
    "\n",
    "noni2013.columns=[\"Visa Category\", \"Issued\", \"Refused\", \"Total Applications\"]\n",
    "noni2013"
   ]
  },
  {
   "cell_type": "code",
   "execution_count": 29,
   "metadata": {},
   "outputs": [],
   "source": [
    "noni2013[\"Issued\"] = noni2013[\"Issued\"].replace(\",\", \"\", regex=True)\n",
    "noni2013[\"Refused\"] = noni2013[\"Refused\"].replace(\",\", \"\", regex=True)\n"
   ]
  },
  {
   "cell_type": "code",
   "execution_count": 30,
   "metadata": {},
   "outputs": [
    {
     "data": {
      "text/plain": [
       "array(['9164349', '2289664'], dtype='<U7')"
      ]
     },
     "execution_count": 30,
     "metadata": {},
     "output_type": "execute_result"
    }
   ],
   "source": [
    "total_issued = (noni2013.at[81,'Issued'])\n",
    "total_refused = (noni2013.at[81,'Refused'])\n",
    "y=np.array([total_issued, total_refused])\n",
    "y\n"
   ]
  },
  {
   "cell_type": "code",
   "execution_count": 31,
   "metadata": {},
   "outputs": [
    {
     "data": {
      "image/png": "[encoded data removed]",
      "text/plain": [
       "<Figure size 800x600 with 1 Axes>"
      ]
     },
     "metadata": {},
     "output_type": "display_data"
    }
   ],
   "source": [
    "plt.figure(figsize=(8, 6))\n",
    "plt.pie(y,\n",
    "    labels=[\"Issued\", \"Refused\"],\n",
    "    autopct=\"%1.1f%%\",\n",
    "    colors=[\"#4CAF50\", \"#FF6F61\"]\n",
    ")\n",
    "plt.title(\"Overall Distribution of Issued vs. Refused Visas in 2013\")\n",
    "plt.show()\n"
   ]
  },
  {
   "cell_type": "code",
   "execution_count": 32,
   "metadata": {},
   "outputs": [
    {
     "data": {
      "text/html": [
       "<div>\n",
       "<style scoped>\n",
       "    .dataframe tbody tr th:only-of-type {\n",
       "        vertical-align: middle;\n",
       "    }\n",
       "\n",
       "    .dataframe tbody tr th {\n",
       "        vertical-align: top;\n",
       "    }\n",
       "\n",
       "    .dataframe thead th {\n",
       "        text-align: right;\n",
       "    }\n",
       "</style>\n",
       "<table border=\"1\" class=\"dataframe\">\n",
       "  <thead>\n",
       "    <tr style=\"text-align: right;\">\n",
       "      <th></th>\n",
       "      <th>Visa Category</th>\n",
       "      <th>Issued</th>\n",
       "      <th>Refused</th>\n",
       "      <th>Total Application</th>\n",
       "    </tr>\n",
       "  </thead>\n",
       "  <tbody>\n",
       "    <tr>\n",
       "      <th>0</th>\n",
       "      <td>A1</td>\n",
       "      <td>9,448</td>\n",
       "      <td>444</td>\n",
       "      <td>9,892</td>\n",
       "    </tr>\n",
       "    <tr>\n",
       "      <th>1</th>\n",
       "      <td>A2</td>\n",
       "      <td>98,550</td>\n",
       "      <td>4,087</td>\n",
       "      <td>102,637</td>\n",
       "    </tr>\n",
       "    <tr>\n",
       "      <th>2</th>\n",
       "      <td>A3</td>\n",
       "      <td>680</td>\n",
       "      <td>90</td>\n",
       "      <td>770</td>\n",
       "    </tr>\n",
       "    <tr>\n",
       "      <th>3</th>\n",
       "      <td>B1</td>\n",
       "      <td>29,286</td>\n",
       "      <td>5,693</td>\n",
       "      <td>34,979</td>\n",
       "    </tr>\n",
       "    <tr>\n",
       "      <th>4</th>\n",
       "      <td>B1/B2</td>\n",
       "      <td>5,902,426</td>\n",
       "      <td>1,842,683</td>\n",
       "      <td>7,745,109</td>\n",
       "    </tr>\n",
       "    <tr>\n",
       "      <th>...</th>\n",
       "      <td>...</td>\n",
       "      <td>...</td>\n",
       "      <td>...</td>\n",
       "      <td>...</td>\n",
       "    </tr>\n",
       "    <tr>\n",
       "      <th>72</th>\n",
       "      <td>U2</td>\n",
       "      <td>216</td>\n",
       "      <td>37</td>\n",
       "      <td>253</td>\n",
       "    </tr>\n",
       "    <tr>\n",
       "      <th>73</th>\n",
       "      <td>U3</td>\n",
       "      <td>1,306</td>\n",
       "      <td>167</td>\n",
       "      <td>1,473</td>\n",
       "    </tr>\n",
       "    <tr>\n",
       "      <th>74</th>\n",
       "      <td>U4</td>\n",
       "      <td>18</td>\n",
       "      <td>8</td>\n",
       "      <td>26</td>\n",
       "    </tr>\n",
       "    <tr>\n",
       "      <th>75</th>\n",
       "      <td>U5</td>\n",
       "      <td>24</td>\n",
       "      <td>1</td>\n",
       "      <td>25</td>\n",
       "    </tr>\n",
       "    <tr>\n",
       "      <th>76</th>\n",
       "      <td>Grand Total</td>\n",
       "      <td>10,438,327</td>\n",
       "      <td>2,481,121</td>\n",
       "      <td>12,919,448</td>\n",
       "    </tr>\n",
       "  </tbody>\n",
       "</table>\n",
       "<p>77 rows × 4 columns</p>\n",
       "</div>"
      ],
      "text/plain": [
       "   Visa Category      Issued    Refused Total Application\n",
       "0             A1       9,448        444             9,892\n",
       "1             A2      98,550      4,087           102,637\n",
       "2             A3         680         90               770\n",
       "3             B1      29,286      5,693            34,979\n",
       "4          B1/B2   5,902,426  1,842,683         7,745,109\n",
       "..           ...         ...        ...               ...\n",
       "72            U2         216         37               253\n",
       "73            U3       1,306        167             1,473\n",
       "74            U4          18          8                26\n",
       "75            U5          24          1                25\n",
       "76   Grand Total  10,438,327  2,481,121        12,919,448\n",
       "\n",
       "[77 rows x 4 columns]"
      ]
     },
     "execution_count": 32,
     "metadata": {},
     "output_type": "execute_result"
    }
   ],
   "source": [
    "noni2023 = pd.read_csv(\"/Users/athleticsimage/Desktop/CMPS3160_FinalProject/CMPS3160_FinalProject/noni23.csv\")\n",
    "\n",
    "noni2023.columns=[\"Visa Category\", \"Issued\", \"Refused\", \"Total Application\"]\n",
    "noni2023\n"
   ]
  },
  {
   "cell_type": "code",
   "execution_count": 33,
   "metadata": {},
   "outputs": [
    {
     "data": {
      "text/plain": [
       "Visa Category        object\n",
       "Issued               object\n",
       "Refused              object\n",
       "Total Application    object\n",
       "dtype: object"
      ]
     },
     "execution_count": 33,
     "metadata": {},
     "output_type": "execute_result"
    }
   ],
   "source": [
    "noni2023.dtypes\n"
   ]
  },
  {
   "cell_type": "markdown",
   "metadata": {},
   "source": [
    "had to remove the commas"
   ]
  },
  {
   "cell_type": "code",
   "execution_count": 34,
   "metadata": {},
   "outputs": [],
   "source": [
    "noni2023[\"Issued\"] = noni2023[\"Issued\"].replace(\",\", \"\", regex=True) \n",
    "noni2023[\"Refused\"] = noni2023[\"Refused\"].replace(\",\", \"\", regex=True)\n"
   ]
  },
  {
   "cell_type": "code",
   "execution_count": 35,
   "metadata": {},
   "outputs": [
    {
     "data": {
      "text/plain": [
       "array(['10438327', '2481121'], dtype='<U8')"
      ]
     },
     "execution_count": 35,
     "metadata": {},
     "output_type": "execute_result"
    }
   ],
   "source": [
    "total_issued = (noni2023.at[76,'Issued'])\n",
    "total_refused = (noni2023.at[76,'Refused'])\n",
    "y=np.array([total_issued, total_refused])\n",
    "y\n"
   ]
  },
  {
   "cell_type": "code",
   "execution_count": 36,
   "metadata": {},
   "outputs": [
    {
     "data": {
      "image/png": "[encoded data removed]",
      "text/plain": [
       "<Figure size 800x600 with 1 Axes>"
      ]
     },
     "metadata": {},
     "output_type": "display_data"
    }
   ],
   "source": [
    "plt.figure(figsize=(8, 6))\n",
    "plt.pie( y,\n",
    "    labels=[\"Issued\", \"Refused\"],\n",
    "    autopct=\"%1.1f%%\",\n",
    "    colors=[\"#4CAF50\", \"#FF6F61\"])\n",
    "    \n",
    "plt.title(\"Overall Distribution of Issued vs. Refused Visas in 2023\")\n",
    "plt.show()"
   ]
  },
  {
   "cell_type": "markdown",
   "metadata": {},
   "source": [
    "**BEAUTIFULSOUP USED HERE**"
   ]
  },
  {
   "cell_type": "code",
   "execution_count": 63,
   "metadata": {},
   "outputs": [
    {
     "name": "stdout",
     "output_type": "stream",
     "text": [
      "403\n"
     ]
    }
   ],
   "source": [
    "import requests\n",
    "\n",
    "r = requests.get('https://www.migrationpolicy.org/data/state-profiles/state/demographics/US#top', timeout=10)\n",
    "print(r.status_code)\n"
   ]
  },
  {
   "cell_type": "code",
   "execution_count": 64,
   "metadata": {},
   "outputs": [
    {
     "name": "stdout",
     "output_type": "stream",
     "text": [
      "200\n"
     ]
    },
    {
     "data": {
      "text/plain": [
       "'\\n\\n\\n\\n\\n\\n\\n\\n\\n\\n\\n\\n\\n\\n\\n\\n\\n\\n\\n\\n\\nState Demographics Data | migrationpolicy.org\\n\\n\\n\\n\\n\\n\\n\\n\\n\\n\\n\\n\\n\\n\\n\\n\\n\\n\\n\\nSkip to main content\\n\\n\\n\\n\\n\\n \\n\\n\\n\\n\\n\\n\\n\\n \\n\\n\\n\\n\\nNewsroom\\nMPI en Español\\nMultimedia\\nDonate\\nContact\\nSign Up\\n \\n\\n\\n\\n\\n\\n\\n\\n\\n\\n\\n\\n\\n\\n\\n\\n\\nAll MPIResearch PublicationsArticlesMultimediaEventsNews\\n\\n\\n\\n\\n\\n \\n\\n\\n\\n            Refine by Date          \\n\\n\\n\\nDate \\n\\n E.g., 11/13/2024\\n\\n\\n\\n \\n\\n\\n\\n\\n\\nDate \\n\\n E.g., 11/13/2024\\n\\n\\n\\n \\n\\n\\n \\n\\n\\n \\n\\n\\n\\n\\n\\n\\n\\n\\nMenu\\n\\n\\n\\n\\n\\n\\n\\n\\n\\n\\n\\nResearch & Initiatives\\n\\nTopics\\nRegions\\nData\\nPrograms\\n\\n\\nPublications\\n\\nAll Publications\\nReports'"
      ]
     },
     "execution_count": 64,
     "metadata": {},
     "output_type": "execute_result"
    }
   ],
   "source": [
    "from bs4 import BeautifulSoup\n",
    "url = 'https://www.migrationpolicy.org/data/state-profiles/state/demographics/US#top'\n",
    "headers = {'User-Agent': 'Mozilla/5.0 (Macintosh; Intel Mac OS X 10_10_1) AppleWebKit/537.36 (KHTML, like Gecko) Chrome/39.0.2171.95 Safari/537.36'}\n",
    "r = requests.get(url, headers=headers)\n",
    "print(r.status_code)\n",
    "soup = BeautifulSoup( r.content,'html.parser' )\n",
    "str(soup.get_text()[:500])\n"
   ]
  },
  {
   "cell_type": "code",
   "execution_count": 66,
   "metadata": {},
   "outputs": [
    {
     "data": {
      "text/plain": [
       "'<table class=\"views-table cols-28\">\\n<thead>\\n<tr class=\"lower-header first-indicator\" id=\"row-demo\">\\n<th class=\"subheading\">\\n          Demographics\\n        </th>\\n<th class=\"nohide\">\\n<div class=\"tooltip tooltip-header\">\\n<div class=\"contents\"><p class=\"tooltip-left\">Note: The term \"foreign born\" refers to people residing in the United States at the\\n                     time of the population survey who were not U.S. citizens at birth. The foreign-born population\\n                     includes naturalized U.S. citizens, lawful permanent immigrants (or green-card holders),\\n                     refug'"
      ]
     },
     "execution_count": 66,
     "metadata": {},
     "output_type": "execute_result"
    }
   ],
   "source": [
    "soup.find(\"table\")\n",
    "str(soup.find(\"table\"))[:600]"
   ]
  },
  {
   "cell_type": "code",
   "execution_count": 67,
   "metadata": {},
   "outputs": [
    {
     "name": "stderr",
     "output_type": "stream",
     "text": [
      "/var/folders/6l/7bh9vnpd3bqgbg7ctd65hpg40000gn/T/ipykernel_25785/96289388.py:1: FutureWarning: Passing literal html to 'read_html' is deprecated and will be removed in a future version. To read from a literal string, wrap it in a 'StringIO' object.\n",
      "  df_t1 = pd.read_html(str(soup.find(\"table\")))[0]\n"
     ]
    },
    {
     "data": {
      "text/html": [
       "<div>\n",
       "<style scoped>\n",
       "    .dataframe tbody tr th:only-of-type {\n",
       "        vertical-align: middle;\n",
       "    }\n",
       "\n",
       "    .dataframe tbody tr th {\n",
       "        vertical-align: top;\n",
       "    }\n",
       "\n",
       "    .dataframe thead th {\n",
       "        text-align: right;\n",
       "    }\n",
       "</style>\n",
       "<table border=\"1\" class=\"dataframe\">\n",
       "  <thead>\n",
       "    <tr style=\"text-align: right;\">\n",
       "      <th></th>\n",
       "      <th>Demographics</th>\n",
       "      <th>Note: The term \"foreign born\" refers to people residing in the United States at the  time of the population survey who were not U.S. citizens at birth. The foreign-born population  includes naturalized U.S. citizens, lawful permanent immigrants (or green-card holders),  refugees and asylees, certain legal nonimmigrants (including those on student, work, or some  other temporary visas), and persons residing in the country without authorization.  Foreign Born</th>\n",
       "    </tr>\n",
       "  </thead>\n",
       "  <tbody>\n",
       "    <tr>\n",
       "      <th>0</th>\n",
       "      <td>Number</td>\n",
       "      <td>46182177</td>\n",
       "    </tr>\n",
       "    <tr>\n",
       "      <th>1</th>\n",
       "      <td>% Foreign Born</td>\n",
       "      <td>13.9%</td>\n",
       "    </tr>\n",
       "    <tr>\n",
       "      <th>2</th>\n",
       "      <td>Population Change over Time</td>\n",
       "      <td>NaN</td>\n",
       "    </tr>\n",
       "    <tr>\n",
       "      <th>3</th>\n",
       "      <td>% change: 2000-2022</td>\n",
       "      <td>48.5%</td>\n",
       "    </tr>\n",
       "    <tr>\n",
       "      <th>4</th>\n",
       "      <td>% change: 1990-2000</td>\n",
       "      <td>57.4%</td>\n",
       "    </tr>\n",
       "    <tr>\n",
       "      <th>5</th>\n",
       "      <td>Race (%)</td>\n",
       "      <td>NaN</td>\n",
       "    </tr>\n",
       "    <tr>\n",
       "      <th>6</th>\n",
       "      <td>One race</td>\n",
       "      <td>78.7%</td>\n",
       "    </tr>\n",
       "    <tr>\n",
       "      <th>7</th>\n",
       "      <td>White</td>\n",
       "      <td>20.3%</td>\n",
       "    </tr>\n",
       "    <tr>\n",
       "      <th>8</th>\n",
       "      <td>Black or African American</td>\n",
       "      <td>9.3%</td>\n",
       "    </tr>\n",
       "    <tr>\n",
       "      <th>9</th>\n",
       "      <td>American Indian and Alaska Native</td>\n",
       "      <td>1.1%</td>\n",
       "    </tr>\n",
       "  </tbody>\n",
       "</table>\n",
       "</div>"
      ],
      "text/plain": [
       "                        Demographics  \\\n",
       "0                             Number   \n",
       "1                     % Foreign Born   \n",
       "2        Population Change over Time   \n",
       "3                % change: 2000-2022   \n",
       "4                % change: 1990-2000   \n",
       "5                           Race (%)   \n",
       "6                           One race   \n",
       "7                              White   \n",
       "8          Black or African American   \n",
       "9  American Indian and Alaska Native   \n",
       "\n",
       "  Note: The term \"foreign born\" refers to people residing in the United States at the  time of the population survey who were not U.S. citizens at birth. The foreign-born population  includes naturalized U.S. citizens, lawful permanent immigrants (or green-card holders),  refugees and asylees, certain legal nonimmigrants (including those on student, work, or some  other temporary visas), and persons residing in the country without authorization.  Foreign Born  \n",
       "0                                           46182177                                                                                                                                                                                                                                                                                                                                                                                                                             \n",
       "1                                              13.9%                                                                                                                                                                                                                                                                                                                                                                                                                             \n",
       "2                                                NaN                                                                                                                                                                                                                                                                                                                                                                                                                             \n",
       "3                                              48.5%                                                                                                                                                                                                                                                                                                                                                                                                                             \n",
       "4                                              57.4%                                                                                                                                                                                                                                                                                                                                                                                                                             \n",
       "5                                                NaN                                                                                                                                                                                                                                                                                                                                                                                                                             \n",
       "6                                              78.7%                                                                                                                                                                                                                                                                                                                                                                                                                             \n",
       "7                                              20.3%                                                                                                                                                                                                                                                                                                                                                                                                                             \n",
       "8                                               9.3%                                                                                                                                                                                                                                                                                                                                                                                                                             \n",
       "9                                               1.1%                                                                                                                                                                                                                                                                                                                                                                                                                             "
      ]
     },
     "metadata": {},
     "output_type": "display_data"
    }
   ],
   "source": [
    "df_t1 = pd.read_html(str(soup.find(\"table\")))[0]\n",
    "display(df_t1[0:10])"
   ]
  },
  {
   "cell_type": "code",
   "execution_count": 72,
   "metadata": {},
   "outputs": [
    {
     "name": "stdout",
     "output_type": "stream",
     "text": [
      "Index(['Demographics', 'Note: The term \"foreign born\" refers to people residing in the United States at the  time of the population survey who were not U.S. citizens at birth. The foreign-born population  includes naturalized U.S. citizens, lawful permanent immigrants (or green-card holders),  refugees and asylees, certain legal nonimmigrants (including those on student, work, or some  other temporary visas), and persons residing in the country without authorization.  Foreign Born'], dtype='object')\n"
     ]
    }
   ],
   "source": [
    "print(df_t1.columns)\n"
   ]
  },
  {
   "cell_type": "code",
   "execution_count": 73,
   "metadata": {},
   "outputs": [
    {
     "data": {
      "text/html": [
       "<div>\n",
       "<style scoped>\n",
       "    .dataframe tbody tr th:only-of-type {\n",
       "        vertical-align: middle;\n",
       "    }\n",
       "\n",
       "    .dataframe tbody tr th {\n",
       "        vertical-align: top;\n",
       "    }\n",
       "\n",
       "    .dataframe thead th {\n",
       "        text-align: right;\n",
       "    }\n",
       "</style>\n",
       "<table border=\"1\" class=\"dataframe\">\n",
       "  <thead>\n",
       "    <tr style=\"text-align: right;\">\n",
       "      <th></th>\n",
       "      <th>Demographics</th>\n",
       "      <th>Foreign Born</th>\n",
       "    </tr>\n",
       "  </thead>\n",
       "  <tbody>\n",
       "    <tr>\n",
       "      <th>0</th>\n",
       "      <td>Number</td>\n",
       "      <td>46182177</td>\n",
       "    </tr>\n",
       "    <tr>\n",
       "      <th>1</th>\n",
       "      <td>% Foreign Born</td>\n",
       "      <td>13.9%</td>\n",
       "    </tr>\n",
       "    <tr>\n",
       "      <th>2</th>\n",
       "      <td>Population Change over Time</td>\n",
       "      <td>NaN</td>\n",
       "    </tr>\n",
       "    <tr>\n",
       "      <th>3</th>\n",
       "      <td>% change: 2000-2022</td>\n",
       "      <td>48.5%</td>\n",
       "    </tr>\n",
       "    <tr>\n",
       "      <th>4</th>\n",
       "      <td>% change: 1990-2000</td>\n",
       "      <td>57.4%</td>\n",
       "    </tr>\n",
       "    <tr>\n",
       "      <th>5</th>\n",
       "      <td>Race (%)</td>\n",
       "      <td>NaN</td>\n",
       "    </tr>\n",
       "    <tr>\n",
       "      <th>6</th>\n",
       "      <td>One race</td>\n",
       "      <td>78.7%</td>\n",
       "    </tr>\n",
       "    <tr>\n",
       "      <th>7</th>\n",
       "      <td>White</td>\n",
       "      <td>20.3%</td>\n",
       "    </tr>\n",
       "    <tr>\n",
       "      <th>8</th>\n",
       "      <td>Black or African American</td>\n",
       "      <td>9.3%</td>\n",
       "    </tr>\n",
       "    <tr>\n",
       "      <th>9</th>\n",
       "      <td>American Indian and Alaska Native</td>\n",
       "      <td>1.1%</td>\n",
       "    </tr>\n",
       "    <tr>\n",
       "      <th>10</th>\n",
       "      <td>Asian</td>\n",
       "      <td>27.2%</td>\n",
       "    </tr>\n",
       "    <tr>\n",
       "      <th>11</th>\n",
       "      <td>Native Hawaiian and other Pacific Islander</td>\n",
       "      <td>0.3%</td>\n",
       "    </tr>\n",
       "    <tr>\n",
       "      <th>12</th>\n",
       "      <td>Other race</td>\n",
       "      <td>20.4%</td>\n",
       "    </tr>\n",
       "    <tr>\n",
       "      <th>13</th>\n",
       "      <td>Two or more races</td>\n",
       "      <td>21.3%</td>\n",
       "    </tr>\n",
       "    <tr>\n",
       "      <th>14</th>\n",
       "      <td>Latino Origin (of any race)</td>\n",
       "      <td>NaN</td>\n",
       "    </tr>\n",
       "    <tr>\n",
       "      <th>15</th>\n",
       "      <td>Number</td>\n",
       "      <td>20378549</td>\n",
       "    </tr>\n",
       "    <tr>\n",
       "      <th>16</th>\n",
       "      <td>% Latino</td>\n",
       "      <td>44.1%</td>\n",
       "    </tr>\n",
       "    <tr>\n",
       "      <th>17</th>\n",
       "      <td>Age Groups (%)</td>\n",
       "      <td>NaN</td>\n",
       "    </tr>\n",
       "    <tr>\n",
       "      <th>18</th>\n",
       "      <td>Under 5</td>\n",
       "      <td>0.6%</td>\n",
       "    </tr>\n",
       "    <tr>\n",
       "      <th>19</th>\n",
       "      <td>5-17</td>\n",
       "      <td>5.1%</td>\n",
       "    </tr>\n",
       "    <tr>\n",
       "      <th>20</th>\n",
       "      <td>18-64</td>\n",
       "      <td>76.6%</td>\n",
       "    </tr>\n",
       "    <tr>\n",
       "      <th>21</th>\n",
       "      <td>65 and older</td>\n",
       "      <td>17.7%</td>\n",
       "    </tr>\n",
       "    <tr>\n",
       "      <th>22</th>\n",
       "      <td>Median Age Note: 1) Data for Alaska, Maine, Mi...</td>\n",
       "      <td>46.7</td>\n",
       "    </tr>\n",
       "    <tr>\n",
       "      <th>23</th>\n",
       "      <td>Gender (% female)</td>\n",
       "      <td>51.2%</td>\n",
       "    </tr>\n",
       "    <tr>\n",
       "      <th>24</th>\n",
       "      <td>Marital Status (15 and older) (%)</td>\n",
       "      <td>NaN</td>\n",
       "    </tr>\n",
       "    <tr>\n",
       "      <th>25</th>\n",
       "      <td>Never married</td>\n",
       "      <td>23.4%</td>\n",
       "    </tr>\n",
       "    <tr>\n",
       "      <th>26</th>\n",
       "      <td>Married</td>\n",
       "      <td>60.2%</td>\n",
       "    </tr>\n",
       "    <tr>\n",
       "      <th>27</th>\n",
       "      <td>Separated, divorced, or widowed</td>\n",
       "      <td>16.4%</td>\n",
       "    </tr>\n",
       "  </tbody>\n",
       "</table>\n",
       "</div>"
      ],
      "text/plain": [
       "                                         Demographics Foreign Born\n",
       "0                                              Number     46182177\n",
       "1                                      % Foreign Born        13.9%\n",
       "2                         Population Change over Time          NaN\n",
       "3                                 % change: 2000-2022        48.5%\n",
       "4                                 % change: 1990-2000        57.4%\n",
       "5                                            Race (%)          NaN\n",
       "6                                            One race        78.7%\n",
       "7                                               White        20.3%\n",
       "8                           Black or African American         9.3%\n",
       "9                   American Indian and Alaska Native         1.1%\n",
       "10                                              Asian        27.2%\n",
       "11         Native Hawaiian and other Pacific Islander         0.3%\n",
       "12                                         Other race        20.4%\n",
       "13                                  Two or more races        21.3%\n",
       "14                        Latino Origin (of any race)          NaN\n",
       "15                                             Number     20378549\n",
       "16                                           % Latino        44.1%\n",
       "17                                     Age Groups (%)          NaN\n",
       "18                                            Under 5         0.6%\n",
       "19                                               5-17         5.1%\n",
       "20                                              18-64        76.6%\n",
       "21                                       65 and older        17.7%\n",
       "22  Median Age Note: 1) Data for Alaska, Maine, Mi...         46.7\n",
       "23                                  Gender (% female)        51.2%\n",
       "24                  Marital Status (15 and older) (%)          NaN\n",
       "25                                      Never married        23.4%\n",
       "26                                            Married        60.2%\n",
       "27                    Separated, divorced, or widowed        16.4%"
      ]
     },
     "execution_count": 73,
     "metadata": {},
     "output_type": "execute_result"
    }
   ],
   "source": [
    "df_t1.columns=['Demographics','Foreign Born'\n",
    "\n",
    "]\n",
    "df_t1"
   ]
  },
  {
   "cell_type": "markdown",
   "metadata": {},
   "source": [
    "wtf i can do with the data i have right now?\n",
    "1. How has the number of asylum seekers changed over the decade from 2013 to 2023?\n",
    "2. What changes have there been in the number of visas granted and refused in different visa categories?\n",
    "3. How have the socio-demographic profiles of immigrants changed over the years? (For example, age, education level, employment status, etc.)\n",
    "\n",
    "join:\n",
    "- join by year \n",
    "\n",
    "\n"
   ]
  }
 ],
 "metadata": {
  "kernelspec": {
   "display_name": "Python 3",
   "language": "python",
   "name": "python3"
  },
  "language_info": {
   "codemirror_mode": {
    "name": "ipython",
    "version": 3
   },
   "file_extension": ".py",
   "mimetype": "text/x-python",
   "name": "python",
   "nbconvert_exporter": "python",
   "pygments_lexer": "ipython3",
   "version": "3.9.6"
  }
 },
 "nbformat": 4,
 "nbformat_minor": 2
}
